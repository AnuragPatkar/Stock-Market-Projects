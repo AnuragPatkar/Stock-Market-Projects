{
 "cells": [
  {
   "cell_type": "markdown",
   "id": "dff6c7fb",
   "metadata": {},
   "source": [
    "# Stock Portfolio Summary Calculator\n",
    "## Project Overview\n",
    "This project creates a simple Python program that helps users track and analyze their stock portfolio performance. We'll implement a tool that calculates key metrics for each stock position and provides an overall portfolio summary.\n",
    "\n",
    "In this implementation, we'll:\n",
    "\n",
    "1) Collect user input for stock positions\n",
    "\n",
    "2) Calculate position values and performance metrics\n",
    "\n",
    "3) Display a comprehensive portfolio summary\n",
    "\n",
    "This project applies fundamental Python concepts including variables, data types, operators, and input/output operations – core building blocks for algorithmic trading systems."
   ]
  },
  {
   "cell_type": "markdown",
   "id": "c7ba0f4e",
   "metadata": {},
   "source": [
    "Understanding the Requirements\n",
    "Our Stock Portfolio Summary Calculator needs to:\n",
    "\n",
    "Gather data for 3 different stocks:\n",
    "1) Stock symbol\n",
    "\n",
    "2) Purchase price\n",
    "\n",
    "3) Current price\n",
    "\n",
    "4) Number of shares held\n",
    "\n",
    "Calculate for each stock:\n",
    "1) Total Position Value = current price × number of shares\n",
    "\n",
    "2) Profit/Loss in Dollars = (current price - purchase price) × number of shares\n",
    "\n",
    "3) Profit/Loss Percentage = ((current price - purchase price) / purchase price) × 100\n",
    "\n",
    "Generate a complete portfolio summary:\n",
    "* Individual stock performance\n",
    "\n",
    "* Total portfolio value\n",
    "\n",
    "* Overall portfolio profit/loss\n",
    "\n"
   ]
  },
  {
   "cell_type": "code",
   "execution_count": 15,
   "id": "70afb450",
   "metadata": {},
   "outputs": [
    {
     "name": "stdout",
     "output_type": "stream",
     "text": [
      "Enter information for Stock #1:\n",
      "Enter information for Stock #2:\n"
     ]
    }
   ],
   "source": [
    "# Stock Portfolio Summary Calculator\n",
    "\n",
    "# Initialize empty lists to store stock information\n",
    "symbols=[]\n",
    "purchase_prices=[]\n",
    "current_prices=[]\n",
    "share_counts=[]\n",
    "\n",
    "num_of_stock=int(input(\"Enter Number of stocks in your portfolio:\"))\n",
    "\n",
    "for i in range(num_of_stock):\n",
    "    print(f\"Enter information for Stock #{i+1}:\")\n",
    "    symbol=input(\"Enter stock symbol:\").upper()\n",
    "    purchase_price=int(input(\"Enter purchase prize of stock :\"))\n",
    "    current_price=int(input(\"Enter current prize of stock :\"))\n",
    "    share_count=int(input(\"Enter number of shares :\"))\n",
    "\n",
    "    symbols.append(symbol)\n",
    "    purchase_prices.append(purchase_price)\n",
    "    current_prices.append(current_price)\n",
    "    share_counts.append(share_count)\n",
    "\n",
    "\n"
   ]
  },
  {
   "cell_type": "code",
   "execution_count": 16,
   "id": "7102145e",
   "metadata": {},
   "outputs": [
    {
     "name": "stdout",
     "output_type": "stream",
     "text": [
      "['SBIN', 'AMZN']\n",
      "[500, 700]\n",
      "[600, 800]\n",
      "[10, 20]\n"
     ]
    }
   ],
   "source": [
    "print(symbols)\n",
    "print(purchase_prices)\n",
    "print(current_prices)\n",
    "print(share_counts)"
   ]
  },
  {
   "cell_type": "markdown",
   "id": "422fba42",
   "metadata": {},
   "source": [
    "# Calculating Position Metrics\n",
    "After collecting the basic stock information, the next step is to calculate the key metrics for each position:\n",
    "\n",
    "1. Position Value\n",
    "This represents the current market value of each stock holding:\n",
    "Position Value = Current Price × Number of Shares\n",
    "\n",
    "2. Dollar Profit/Loss\n",
    "This is the absolute gain or loss in dollar terms since the stock was purchased:\n",
    "Profit/Loss = (Current Price - Purchase Price) × Number of Shares\n",
    "\n",
    "3. Percentage Profit/Loss\n",
    "This measures the relative performance of the stock as a percentage:\n",
    "Percentage Profit/Loss = ((Current Price - Purchase Price) / Purchase Price) × 100\n",
    "\n",
    "These calculations use basic arithmetic operations and are fundamental to analyzing trading performance in any stock portfolio."
   ]
  },
  {
   "cell_type": "code",
   "execution_count": 24,
   "id": "57288049",
   "metadata": {},
   "outputs": [
    {
     "name": "stdout",
     "output_type": "stream",
     "text": [
      "\n",
      "INDIVIDUAL STOCK PERFORMANCE:\n",
      "---------------------------------------------------------------------------\n",
      "SYMBOL   SHARES   PURCHASE   CURRENT    CURRENT VALUE   P/L($)       P/L(%)    \n",
      "---------------------------------------------------------------------------\n",
      "SBIN     10       500        600        6000            1000         20.00     \n",
      "AMZN     20       700        800        16000           2000         14.29     \n"
     ]
    }
   ],
   "source": [
    "total_current_value=0\n",
    "total_purchase_value=0\n",
    "\n",
    "# Display individual stock performance\n",
    "print(\"\\nINDIVIDUAL STOCK PERFORMANCE:\")\n",
    "print(\"-\"*75)\n",
    "print(f\"{'SYMBOL':<8} {'SHARES':<8} {'PURCHASE':<10} {'CURRENT':<10} {'CURRENT VALUE':<15} {'P/L($)':<12} {'P/L(%)':<10}\")\n",
    "print(\"-\"*75)\n",
    "\n",
    "for i in range(len(symbols)):\n",
    "    purchase_value=purchase_prices[i]*share_counts[i]\n",
    "    current_value=current_prices[i]*share_counts[i]\n",
    "    profit_loss=current_value-purchase_value\n",
    "    profit_loss_percent=(profit_loss/purchase_value)*100\n",
    "\n",
    "    #update portfolio total\n",
    "    total_purchase_value+=purchase_value\n",
    "    total_current_value+=current_value\n",
    "\n",
    "    #Display stock information\n",
    "    print(f\"{symbols[i]:<8} {share_counts[i]:<8} {purchase_prices[i]:<10} {current_prices[i]:<10} {current_value:<15} {profit_loss:<12} {profit_loss_percent:<10.2f}\")\n"
   ]
  },
  {
   "cell_type": "markdown",
   "id": "6184c0d6",
   "metadata": {},
   "source": [
    "# Generating Portfolio Summary\n",
    "The final step is to calculate and display the overall portfolio performance metrics. This includes:\n",
    "\n",
    "1. Total Portfolio Value\n",
    "The sum of the current market values of all stock positions.\n",
    "\n",
    "2. Total Investment\n",
    "The total amount originally invested, calculated as the sum of all purchase values.\n",
    "\n",
    "3. Overall Profit/Loss\n",
    "In Dollar Terms: Total Portfolio Value − Total Investment\n",
    "\n",
    "In Percentage Terms:\n",
    "((Total Portfolio Value − Total Investment) / Total Investment) × 100\n",
    "\n",
    "These summary statistics provide investors with a quick and clear overview of their portfolio's performance.\n",
    "\n",
    "This approach of collecting data, performing calculations, and presenting results forms the foundation of many financial and trading applications."
   ]
  },
  {
   "cell_type": "code",
   "execution_count": 30,
   "id": "2f55e338",
   "metadata": {},
   "outputs": [
    {
     "name": "stdout",
     "output_type": "stream",
     "text": [
      "\n",
      " Portfolio Summary:\n",
      "--------------------------------------------------\n",
      "Total investment: $19000.00\n",
      "Current portfolio value:$22000.00\n",
      "Overall Profit/Loss: $3000.00 (15.79%)\n",
      "\n",
      "Your portfolio is performing well with positive returns!\n"
     ]
    }
   ],
   "source": [
    "#calculate overoll portfolio metrics\n",
    "total_profit_loss=total_current_value-total_purchase_value\n",
    "overall_profit_loss_percent=(total_profit_loss/total_purchase_value)*100\n",
    "\n",
    "#Display portfolio summary\n",
    "print(\"\\n Portfolio Summary:\")\n",
    "print(\"-\"*50)\n",
    "print(f\"Total investment: ${total_purchase_value:.2f}\")\n",
    "print(f\"Current portfolio value:${total_current_value:.2f}\")\n",
    "print(f\"Overall Profit/Loss: ${total_profit_loss:.2f} ({overall_profit_loss_percent:.2f}%)\")\n",
    "\n",
    "# Determine overall performance message\n",
    "if total_profit_loss > 0:\n",
    "    print(\"\\nYour portfolio is performing well with positive returns!\")\n",
    "elif total_profit_loss < 0:\n",
    "    print(\"\\nYour portfolio is currently at a loss.\")\n",
    "else:\n",
    "    print(\"\\nYour portfolio is breaking even.\")"
   ]
  },
  {
   "cell_type": "code",
   "execution_count": null,
   "id": "627c35da",
   "metadata": {},
   "outputs": [],
   "source": []
  }
 ],
 "metadata": {
  "kernelspec": {
   "display_name": "Python 3",
   "language": "python",
   "name": "python3"
  },
  "language_info": {
   "codemirror_mode": {
    "name": "ipython",
    "version": 3
   },
   "file_extension": ".py",
   "mimetype": "text/x-python",
   "name": "python",
   "nbconvert_exporter": "python",
   "pygments_lexer": "ipython3",
   "version": "3.10.11"
  }
 },
 "nbformat": 4,
 "nbformat_minor": 5
}
